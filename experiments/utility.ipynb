{
 "cells": [
  {
   "cell_type": "markdown",
   "metadata": {},
   "source": [
    "# Utility experiments"
   ]
  },
  {
   "cell_type": "markdown",
   "metadata": {},
   "source": [
    "Execute experiments for agents and agreement. The experiments cover different combination of parameters and behaviour of agents."
   ]
  },
  {
   "cell_type": "code",
   "execution_count": 1,
   "metadata": {},
   "outputs": [],
   "source": [
    "from simulation.agent import Agent\n",
    "from simulation.registry import Registry\n",
    "from simulation.agreement import Agreement"
   ]
  },
  {
   "cell_type": "markdown",
   "metadata": {},
   "source": [
    "## Parameters\n",
    "Layers consists of a lower and upper bound, and a deposit factor."
   ]
  },
  {
   "cell_type": "code",
   "execution_count": 21,
   "metadata": {},
   "outputs": [],
   "source": [
    "layers =  [\n",
    "    {},\n",
    "    {'lower': 0, 'upper': 20, 'factor': 2},\n",
    "    {'lower': 20, 'upper': 40, 'factor': 1.75},\n",
    "    {'lower': 40, 'upper': 60, 'factor': 1.5},\n",
    "    {'lower': 60, 'upper': 80, 'factor': 1.25}\n",
    "]\n",
    "actions = [100,0]\n",
    "\n",
    "num_agents_performing = 1000\n",
    "num_agents_receiving = 1000\n",
    "agents_performing = []\n",
    "agents_receiving = []\n",
    "\n",
    "num_agents = num_agents_performing + num_agents_receiving\n",
    "\n",
    "for i in range(num_agents):\n",
    "    if i < num_agents_performing:\n",
    "        agents_performing.append(Agent(i,agent_type='rational'))\n",
    "    else:\n",
    "        agents_receiving.append(Agent(i,agent_type='rational'))\n",
    "\n",
    "a1obj = {\n",
    "    'payment': 2,\n",
    "    'cost_perform': 1,\n",
    "    'cost_receive': 0.1,\n",
    "    'deposit': 10,\n",
    "    'interest': 0.05,\n",
    "    'valuation_perform': 12,\n",
    "    'valuation_receive': 15\n",
    "}\n",
    "a1 = Agreement(a1obj)"
   ]
  },
  {
   "cell_type": "markdown",
   "metadata": {},
   "source": [
    "## Experiments\n",
    "The performing agents are executing actions. This affects the utility of the receiving and performing agents. We report the average utility of agents."
   ]
  },
  {
   "cell_type": "code",
   "execution_count": 22,
   "metadata": {},
   "outputs": [],
   "source": [
    "rounds = 10\n",
    "\n",
    "registry = Registry(layers=layers, num_agents=num_agents, actions=actions)\n",
    "\n",
    "for agent in agents_performing:\n",
    "    agent.register_agreement(a1.payment, a1.cost_perform, a1.deposit, a1.interest, a1.valuation_perform)\n",
    "    registry.register(agent.id)\n",
    "    agent.set_factor(registry.layers[1]['factor'])\n",
    "\n",
    "for agent in agents_receiving:\n",
    "    agent.register_agreement(a1.payment, a1.cost_receive, a1.deposit, a1.interest, a1.valuation_receive)\n",
    "    registry.register(agent.id)\n",
    "    agent.set_factor(registry.layers[1]['factor'])\n",
    "\n",
    "sum_utility_perform_rational = [0] * rounds\n",
    "sum_utility_receiving = [0] * rounds\n",
    "sum_utility = [0] * rounds\n",
    "desired_actions = [0] * rounds\n",
    "undesired_actions = [0] * rounds\n",
    "no_actions = [0] * rounds\n",
    "\n",
    "layer_count = []\n",
    "for i in range(len(layers)):\n",
    "    layer_count.append([0] * rounds)\n",
    "\n",
    "for r in range(rounds):\n",
    "    for i in range(len(agents_performing)):\n",
    "        # get the agent layer\n",
    "        this_layer = registry.agent_layer[i]\n",
    "        layer_count[this_layer][r] += 1\n",
    "        \n",
    "        if this_layer is not 0:\n",
    "            # get the latest factor\n",
    "            agents_performing[i].factor = registry.get_factor(i)\n",
    "            agents_receiving[i].factor = agents_performing[i].factor \n",
    "\n",
    "            # let all performing agents perform an action\n",
    "            action, utility_perform = agents_performing[i].perform_action(0)\n",
    "            agents_performing[i].update_utility(utility_perform)\n",
    "\n",
    "\n",
    "            # update the registry with the actions\n",
    "            if action == 'desired':\n",
    "                registry.update(i, 0)\n",
    "                desired_actions[r] += 1\n",
    "            elif action == 'undesired':\n",
    "                registry.update(i, 1)\n",
    "                undesired_actions[r] += 1\n",
    "            elif action == 'no_action':\n",
    "                utility = 0 - cost\n",
    "                no_actions[r] += 1\n",
    "\n",
    "            # receiving agents update their utility based on the action of the performing agent\n",
    "            utility_receive = agents_receiving[i].utility_receiving(0, action)\n",
    "            agents_receiving[i].update_utility(utility_receive)\n",
    "        else:\n",
    "            utility_perform = 0\n",
    "            utility_receive = 0\n",
    "            \n",
    "        sum_utility_perform_rational[r] += utility_perform\n",
    "        sum_utility_receiving[r] += utility_receive\n",
    "    \n",
    "    # after every round curate the registry\n",
    "    registry.curate()"
   ]
  },
  {
   "cell_type": "markdown",
   "metadata": {},
   "source": [
    "## Visualise results"
   ]
  },
  {
   "cell_type": "code",
   "execution_count": 23,
   "metadata": {},
   "outputs": [],
   "source": [
    "import matplotlib\n",
    "import matplotlib.pyplot as plt\n",
    "import numpy as np"
   ]
  },
  {
   "cell_type": "markdown",
   "metadata": {},
   "source": [
    "### Disitribution of actions"
   ]
  },
  {
   "cell_type": "code",
   "execution_count": 24,
   "metadata": {},
   "outputs": [
    {
     "data": {
      "image/png": "[encoded data removed]",
      "text/plain": [
       "<Figure size 432x288 with 1 Axes>"
      ]
     },
     "metadata": {
      "needs_background": "light"
     },
     "output_type": "display_data"
    }
   ],
   "source": [
    "ind = np.arange(rounds)\n",
    "width = 0.35\n",
    "\n",
    "p1 = plt.bar(ind, desired_actions, width)\n",
    "p2 = plt.bar(ind, undesired_actions, width,\n",
    "             bottom=desired_actions)\n",
    "p3 = plt.bar(ind, no_actions, width,\n",
    "             bottom=undesired_actions)\n",
    "\n",
    "plt.ylabel('Actions')\n",
    "plt.xticks(np.arange(0, 10, 1))\n",
    "plt.yticks(np.arange(0, 1100, 100))\n",
    "plt.legend((p1[0], p2[0], p3[0]), ('Desired', 'Undesired', 'No action'))\n",
    "\n",
    "plt.show()\n"
   ]
  },
  {
   "cell_type": "markdown",
   "metadata": {},
   "source": [
    "### Distribution of agents in layers"
   ]
  },
  {
   "cell_type": "code",
   "execution_count": 25,
   "metadata": {},
   "outputs": [
    {
     "data": {
      "image/png": "[encoded data removed]",
      "text/plain": [
       "<Figure size 432x288 with 1 Axes>"
      ]
     },
     "metadata": {
      "needs_background": "light"
     },
     "output_type": "display_data"
    }
   ],
   "source": [
    "ind = np.arange(rounds)\n",
    "width = 0.35\n",
    "\n",
    "ps = dict()\n",
    "\n",
    "for i in range(len(layers)):\n",
    "    if i == 0:\n",
    "        ps[i] = plt.bar(ind, layer_count[i], width)\n",
    "    else:\n",
    "        ps[i] = plt.bar(ind, layer_count[i], width,\n",
    "             bottom=layer_count[i-1])\n",
    "\n",
    "plt.ylabel('Layers')\n",
    "plt.xticks(np.arange(0, 10, 1))\n",
    "plt.yticks(np.arange(0, 1100, 100))\n",
    "plt.legend(ps)\n",
    "\n",
    "plt.show()"
   ]
  },
  {
   "cell_type": "code",
   "execution_count": null,
   "metadata": {},
   "outputs": [],
   "source": []
  },
  {
   "cell_type": "code",
   "execution_count": null,
   "metadata": {},
   "outputs": [],
   "source": []
  }
 ],
 "metadata": {
  "kernelspec": {
   "display_name": "Python 3",
   "language": "python",
   "name": "python3"
  },
  "language_info": {
   "codemirror_mode": {
    "name": "ipython",
    "version": 3
   },
   "file_extension": ".py",
   "mimetype": "text/x-python",
   "name": "python",
   "nbconvert_exporter": "python",
   "pygments_lexer": "ipython3",
   "version": "3.7.2"
  }
 },
 "nbformat": 4,
 "nbformat_minor": 2
}
