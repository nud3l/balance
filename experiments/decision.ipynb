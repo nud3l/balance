{
 "cells": [
  {
   "cell_type": "markdown",
   "metadata": {},
   "source": [
    "# Decision boundary\n",
    "\n",
    "Calculate the decision boundary for agents in the R_V mechanism.\n",
    "\n",
    "Variables:\n",
    "- x-axis: waiting time of the adversary `w`\n",
    "- y-axis: the influence on the utility factor `f` of the layers\n",
    "\n",
    "Constants:\n",
    "- Valuation `v`\n",
    "- Base deposit `d`\n",
    "- Payment `p`\n",
    "- Cost `c`\n",
    "- Discount factor `discount`\n",
    "- Interest rate `r`\n",
    "- Discount factor `d`\n",
    "- Number of layers `l`\n",
    "\n",
    "\n",
    "Assumptions:\n",
    "- A single action always gets you to the next layer\n",
    "- You get kicked out of the registry for performing a undesired action\n",
    "- You can join the registry again after being kicked-out starting from the lowest layer\n",
    "- Set the constants to a decision boundary\n",
    "- The cost for performing either a desired or undesired action is the same"
   ]
  },
  {
   "cell_type": "code",
   "execution_count": 64,
   "metadata": {},
   "outputs": [],
   "source": [
    "d = 100.0\n",
    "p = d/10\n",
    "v = 130\n",
    "c = 1.0\n",
    "r = 0.05\n",
    "discount = 0.95\n",
    "\n",
    "\n",
    "class Registry:\n",
    "    def __init__(self, d, l, factor, v, p):\n",
    "        self.deposit = dict()\n",
    "        for i in reversed(range(l)):\n",
    "            self.deposit[i] = d * (1 + (factor * (i + 1)))"
   ]
  },
  {
   "cell_type": "code",
   "execution_count": 65,
   "metadata": {},
   "outputs": [],
   "source": [
    "# Actions\n",
    "# 0 = desired\n",
    "# 1 = undesired\n",
    "# 2 = undecided\n",
    "\n",
    "class Agent:\n",
    "    def __init__(self, v, c, p, d, r, discount, w):\n",
    "        self.valuation = v\n",
    "        self.cost = c\n",
    "        self.payment = p\n",
    "        self.deposit = d\n",
    "        self.interest = r\n",
    "        self.discount = discount\n",
    "        self.time = w\n",
    "        \n",
    "    def decision(self):\n",
    "        undesired = self.valuation - self.cost - self.deposit - (self.interest * self.deposit)\n",
    "        \n",
    "        discount_factor = (self.discount/(1.0 + self.interest))**(self.time + 1.0)\n",
    "        desired = discount_factor * (self.payment - self.cost) - discount_factor * self.interest * self.deposit\n",
    "        \n",
    "        if desired > undesired:\n",
    "            action = 0\n",
    "        elif undesired < desired:\n",
    "            action = 1\n",
    "        else:\n",
    "            action = 2\n",
    "        \n",
    "        return action"
   ]
  },
  {
   "cell_type": "code",
   "execution_count": 66,
   "metadata": {},
   "outputs": [],
   "source": [
    "deposit_ratio_base = []\n",
    "window_base = []\n",
    "decision_base = []\n",
    "\n",
    "deposit_ratio_registry = []\n",
    "window_registry = []\n",
    "decision_registry = []\n",
    "\n",
    "max_time_window = 200\n",
    "\n",
    "# No mechanism is simply a single layer registry\n",
    "factor_mod = [0.05, 0.1, 0.15, 0.2, 0.25] \n",
    "num_registry = 3\n",
    "\n",
    "\n",
    "for factor in factor_mod:\n",
    "    base = Registry(d, 1, factor, v, p)\n",
    "    deposit_base = base.deposit[0]\n",
    "    deposit_ratio_base.append(deposit_base)\n",
    "\n",
    "    layer_3 = Registry(d, num_registry, factor, v, p)\n",
    "    deposit_registry = layer_3.deposit[num_registry-1]\n",
    "    deposit_ratio_registry.append(deposit_registry)\n",
    "    \n",
    "    window_round_base = []\n",
    "    decision_round_base = []\n",
    "    \n",
    "    window_round_registry = []\n",
    "    decision_round_registry = []\n",
    "    \n",
    "    for i in range(max_time_window):\n",
    "        window_round_base.append(i+1)\n",
    "        window_round_registry.append(i+1)\n",
    "        \n",
    "        base_agent = Agent(v, c, p, deposit_base, r, discount, i)\n",
    "        registry_agent = Agent(v, c, p, deposit_registry, r, discount, i)\n",
    "        \n",
    "        action_base_agent = base_agent.decision()\n",
    "        action_registry_agent = registry_agent.decision()\n",
    "        \n",
    "        decision_round_base.append(action_base_agent)\n",
    "        decision_round_registry.append(action_registry_agent)\n",
    "        \n",
    "    window_base.append(window_round_base)\n",
    "    window_registry.append(window_round_registry)\n",
    "\n",
    "    decision_base.append(decision_round_base)\n",
    "    decision_registry.append(decision_round_registry)\n",
    "\n",
    "        \n",
    "    "
   ]
  },
  {
   "cell_type": "markdown",
   "metadata": {},
   "source": [
    "# Plot results"
   ]
  },
  {
   "cell_type": "code",
   "execution_count": 67,
   "metadata": {},
   "outputs": [],
   "source": [
    "import matplotlib\n",
    "import matplotlib.pyplot as plt\n",
    "import numpy as np"
   ]
  },
  {
   "cell_type": "code",
   "execution_count": 68,
   "metadata": {},
   "outputs": [
    {
     "data": {
      "image/png": "[encoded data removed]",
      "text/plain": [
       "<Figure size 432x288 with 1 Axes>"
      ]
     },
     "metadata": {
      "needs_background": "light"
     },
     "output_type": "display_data"
    }
   ],
   "source": [
    "fig, ax = plt.subplots()\n",
    "\n",
    "ax.plot(window_registry, decision_registry)\n",
    "\n",
    "ax.grid()\n",
    "\n",
    "plt.show()"
   ]
  },
  {
   "cell_type": "code",
   "execution_count": 73,
   "metadata": {},
   "outputs": [
    {
     "name": "stdout",
     "output_type": "stream",
     "text": [
      "[0, 0, 0, 0, 0, 0, 0, 0, 0, 0, 0, 0, 0, 0, 0, 0, 0, 0, 0, 0, 0, 0, 0, 0, 0, 0, 0, 0, 0, 0, 0, 0, 0, 0, 0, 0, 0, 0, 0, 0, 0, 0, 0, 0, 0, 0, 0, 0, 0, 0, 0, 0, 0, 0, 0, 0, 0, 0, 0, 0, 0, 0, 0, 0, 0, 0, 0, 0, 0, 0, 0, 0, 0, 0, 0, 0, 0, 0, 0, 0, 0, 0, 0, 0, 0, 0, 0, 0, 0, 0, 0, 0, 0, 0, 0, 0, 0, 0, 0, 0, 0, 0, 0, 0, 0, 0, 0, 0, 0, 0, 0, 0, 0, 0, 0, 0, 0, 0, 0, 0, 0, 0, 0, 0, 0, 0, 0, 0, 0, 0, 0, 0, 0, 0, 0, 0, 0, 0, 0, 0, 0, 0, 0, 0, 0, 0, 0, 0, 0, 0, 0, 0, 0, 0, 0, 0, 0, 0, 0, 0, 0, 0, 0, 0, 0, 0, 0, 0, 0, 0, 0, 0, 0, 0, 0, 0, 0, 0, 0, 0, 0, 0, 0, 0, 0, 0, 0, 0, 0, 0, 0, 0, 0, 0, 0, 0, 0, 0, 0, 0]\n"
     ]
    }
   ],
   "source": [
    "print(decision_registry[1])"
   ]
  },
  {
   "cell_type": "markdown",
   "metadata": {},
   "source": [
    "# Discrete plots"
   ]
  },
  {
   "cell_type": "code",
   "execution_count": 78,
   "metadata": {},
   "outputs": [],
   "source": [
    "discount = 0.9\n",
    "interest = 0.05\n",
    "payment = 0.1\n",
    "cost = 0.05\n",
    "deposit = 1.0\n",
    "\n",
    "\n",
    "min_w = 3\n",
    "max_w = 100\n",
    "\n",
    "ws = np.arange(min_w, max_w, dtype=float)\n",
    "gammas = np.linspace(0., 3., 100)\n",
    "\n",
    "base = np.ones(max_w-min_w)\n",
    "\n",
    "values = []\n",
    "\n",
    "def registry(ws, gammas):\n",
    "    np.zeros(min_w,max_w)\n",
    "\n",
    "    for w in ws:\n",
    "        for gamma in gammas:\n",
    "            value = (discount/(1 + interest)**(w+1))*(payment-cost)-(discount/(1 + interest)**(w+1))\\\n",
    "            *interest*gamma*deposit+cost+gamma*deposit+interest*gamma*deposit\n",
    "# value = (0.9/(1 + 0.05)^(w+1))*(0.1-0.05)-(0.9/(1 + 0.05)^(w+1))*0.05*gamma*1.0+0.05+gamma*1.0+0.05*gamma*1.0\n",
    "    "
   ]
  },
  {
   "cell_type": "code",
   "execution_count": null,
   "metadata": {},
   "outputs": [],
   "source": []
  }
 ],
 "metadata": {
  "kernelspec": {
   "display_name": "Python 3",
   "language": "python",
   "name": "python3"
  },
  "language_info": {
   "codemirror_mode": {
    "name": "ipython",
    "version": 3
   },
   "file_extension": ".py",
   "mimetype": "text/x-python",
   "name": "python",
   "nbconvert_exporter": "python",
   "pygments_lexer": "ipython3",
   "version": "3.7.2"
  }
 },
 "nbformat": 4,
 "nbformat_minor": 2
}
