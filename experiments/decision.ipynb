{
 "cells": [
  {
   "cell_type": "markdown",
   "metadata": {},
   "source": [
    "# Decision boundary\n",
    "\n",
    "Calculate the decision boundary for agents in the R_V mechanism.\n",
    "\n",
    "Variables:\n",
    "- x-axis: waiting time of the adversary `w`\n",
    "- y-axis: the influence on the utility factor `f` of the layers\n",
    "\n",
    "Constants:\n",
    "- Valuation `v`\n",
    "- Base deposit `d`\n",
    "- Payment `p`\n",
    "- Cost `c`\n",
    "- Discount factor `discount`\n",
    "- Interest rate `r`\n",
    "- Discount factor `d`\n",
    "- Number of layers `l`\n",
    "\n",
    "\n",
    "Assumptions:\n",
    "- A single action always gets you to the next layer\n",
    "- You get kicked out of the registry for performing a undesired action\n",
    "- You can join the registry again after being kicked-out starting from the lowest layer\n",
    "- Set the constants to a decision boundary\n",
    "- The cost for performing either a desired or undesired action is the same"
   ]
  },
  {
   "cell_type": "code",
   "execution_count": null,
   "metadata": {},
   "outputs": [],
   "source": [
    "d = 100.0\n",
    "p = d/10\n",
    "v = 130\n",
    "c = 1.0\n",
    "r = 0.05\n",
    "discount = 0.95\n",
    "\n",
    "\n",
    "class Registry:\n",
    "    def __init__(self, d, l, factor, v, p):\n",
    "        self.deposit = dict()\n",
    "        for i in reversed(range(l)):\n",
    "            self.deposit[i] = d * (1 + (factor * (i + 1)))"
   ]
  },
  {
   "cell_type": "code",
   "execution_count": null,
   "metadata": {},
   "outputs": [],
   "source": [
    "# Actions\n",
    "# 0 = desired\n",
    "# 1 = undesired\n",
    "# 2 = undecided\n",
    "\n",
    "class Agent:\n",
    "    def __init__(self, v, c, p, d, r, discount, w):\n",
    "        self.valuation = v\n",
    "        self.cost = c\n",
    "        self.payment = p\n",
    "        self.deposit = d\n",
    "        self.interest = r\n",
    "        self.discount = discount\n",
    "        self.time = w\n",
    "        \n",
    "    def decision(self):\n",
    "        undesired = self.valuation - self.cost - self.deposit - (self.interest * self.deposit)\n",
    "        \n",
    "        discount_factor = (self.discount/(1.0 + self.interest))**(self.time + 1.0)\n",
    "        desired = discount_factor * (self.payment - self.cost) - discount_factor * self.interest * self.deposit\n",
    "        \n",
    "        if desired > undesired:\n",
    "            action = 0\n",
    "        elif undesired < desired:\n",
    "            action = 1\n",
    "        else:\n",
    "            action = 2\n",
    "        \n",
    "        return action"
   ]
  },
  {
   "cell_type": "code",
   "execution_count": null,
   "metadata": {},
   "outputs": [],
   "source": [
    "deposit_ratio_base = []\n",
    "window_base = []\n",
    "decision_base = []\n",
    "\n",
    "deposit_ratio_registry = []\n",
    "window_registry = []\n",
    "decision_registry = []\n",
    "\n",
    "max_time_window = 200\n",
    "\n",
    "# No mechanism is simply a single layer registry\n",
    "factor_mod = [0.05, 0.1, 0.15, 0.2, 0.25] \n",
    "num_registry = 3\n",
    "\n",
    "\n",
    "for factor in factor_mod:\n",
    "    base = Registry(d, 1, factor, v, p)\n",
    "    deposit_base = base.deposit[0]\n",
    "    deposit_ratio_base.append(deposit_base)\n",
    "\n",
    "    layer_3 = Registry(d, num_registry, factor, v, p)\n",
    "    deposit_registry = layer_3.deposit[num_registry-1]\n",
    "    deposit_ratio_registry.append(deposit_registry)\n",
    "    \n",
    "    window_round_base = []\n",
    "    decision_round_base = []\n",
    "    \n",
    "    window_round_registry = []\n",
    "    decision_round_registry = []\n",
    "    \n",
    "    for i in range(max_time_window):\n",
    "        window_round_base.append(i+1)\n",
    "        window_round_registry.append(i+1)\n",
    "        \n",
    "        base_agent = Agent(v, c, p, deposit_base, r, discount, i)\n",
    "        registry_agent = Agent(v, c, p, deposit_registry, r, discount, i)\n",
    "        \n",
    "        action_base_agent = base_agent.decision()\n",
    "        action_registry_agent = registry_agent.decision()\n",
    "        \n",
    "        decision_round_base.append(action_base_agent)\n",
    "        decision_round_registry.append(action_registry_agent)\n",
    "        \n",
    "    window_base.append(window_round_base)\n",
    "    window_registry.append(window_round_registry)\n",
    "\n",
    "    decision_base.append(decision_round_base)\n",
    "    decision_registry.append(decision_round_registry)\n",
    "\n",
    "        \n",
    "    "
   ]
  },
  {
   "cell_type": "markdown",
   "metadata": {},
   "source": [
    "# Plot results"
   ]
  },
  {
   "cell_type": "code",
   "execution_count": 1,
   "metadata": {},
   "outputs": [],
   "source": [
    "import matplotlib\n",
    "import matplotlib.pyplot as plt\n",
    "import numpy as np"
   ]
  },
  {
   "cell_type": "code",
   "execution_count": null,
   "metadata": {},
   "outputs": [],
   "source": [
    "fig, ax = plt.subplots()\n",
    "\n",
    "ax.plot(window_registry, decision_registry)\n",
    "\n",
    "ax.grid()\n",
    "\n",
    "plt.show()"
   ]
  },
  {
   "cell_type": "code",
   "execution_count": null,
   "metadata": {},
   "outputs": [],
   "source": [
    "print(decision_registry[1])"
   ]
  },
  {
   "cell_type": "markdown",
   "metadata": {},
   "source": [
    "# Discrete plots"
   ]
  },
  {
   "cell_type": "code",
   "execution_count": null,
   "metadata": {},
   "outputs": [],
   "source": [
    "discount = 0.9\n",
    "interest = 0.05\n",
    "payment = 0.1\n",
    "cost = 0.05\n",
    "deposit = 1.0\n",
    "\n",
    "\n",
    "min_w = 3\n",
    "max_w = 100\n",
    "\n",
    "ws = np.arange(min_w, max_w, dtype=float)\n",
    "gammas = np.linspace(0., 3., 100)\n",
    "\n",
    "base = np.ones(max_w-min_w)\n",
    "\n",
    "values = []\n",
    "\n",
    "def registry(ws, gammas):\n",
    "    np.zeros(min_w,max_w)\n",
    "\n",
    "    for w in ws:\n",
    "        for gamma in gammas:\n",
    "            value = (discount/(1 + interest)**(w+1))*(payment-cost)-(discount/(1 + interest)**(w+1))\\\n",
    "            *interest*gamma*deposit+cost+gamma*deposit+interest*gamma*deposit\n",
    "# value = (0.9/(1 + 0.05)^(w+1))*(0.1-0.05)-(0.9/(1 + 0.05)^(w+1))*0.05*gamma*1.0+0.05+gamma*1.0+0.05*gamma*1.0\n",
    "    "
   ]
  },
  {
   "cell_type": "markdown",
   "metadata": {},
   "source": [
    "# Factor bounds"
   ]
  },
  {
   "cell_type": "code",
   "execution_count": 3,
   "metadata": {},
   "outputs": [
    {
     "ename": "AttributeError",
     "evalue": "'list' object has no attribute 'shape'",
     "output_type": "error",
     "traceback": [
      "\u001b[0;31m---------------------------------------------------------------------------\u001b[0m",
      "\u001b[0;31mAttributeError\u001b[0m                            Traceback (most recent call last)",
      "\u001b[0;32m<ipython-input-3-551b28f08f72>\u001b[0m in \u001b[0;36m<module>\u001b[0;34m\u001b[0m\n\u001b[1;32m     30\u001b[0m \u001b[0mt\u001b[0m \u001b[0;34m=\u001b[0m \u001b[0;34m[\u001b[0m\u001b[0;36m0\u001b[0m\u001b[0;34m,\u001b[0m\u001b[0;36m1\u001b[0m\u001b[0;34m,\u001b[0m\u001b[0;36m2\u001b[0m\u001b[0;34m,\u001b[0m\u001b[0;36m3\u001b[0m\u001b[0;34m]\u001b[0m\u001b[0;34m\u001b[0m\u001b[0;34m\u001b[0m\u001b[0m\n\u001b[1;32m     31\u001b[0m \u001b[0mlayers\u001b[0m \u001b[0;34m=\u001b[0m \u001b[0;34m[\u001b[0m\u001b[0;36m3\u001b[0m\u001b[0;34m]\u001b[0m\u001b[0;34m\u001b[0m\u001b[0;34m\u001b[0m\u001b[0m\n\u001b[0;32m---> 32\u001b[0;31m \u001b[0mr\u001b[0m \u001b[0;34m=\u001b[0m \u001b[0mnp\u001b[0m\u001b[0;34m.\u001b[0m\u001b[0mzeros\u001b[0m\u001b[0;34m(\u001b[0m\u001b[0mt\u001b[0m\u001b[0;34m.\u001b[0m\u001b[0mshape\u001b[0m\u001b[0;34m)\u001b[0m\u001b[0;34m\u001b[0m\u001b[0;34m\u001b[0m\u001b[0m\n\u001b[0m\u001b[1;32m     33\u001b[0m \u001b[0mr_u\u001b[0m \u001b[0;34m=\u001b[0m \u001b[0mnp\u001b[0m\u001b[0;34m.\u001b[0m\u001b[0mzeros\u001b[0m\u001b[0;34m(\u001b[0m\u001b[0mt\u001b[0m\u001b[0;34m.\u001b[0m\u001b[0mshape\u001b[0m\u001b[0;34m)\u001b[0m\u001b[0;34m\u001b[0m\u001b[0;34m\u001b[0m\u001b[0m\n\u001b[1;32m     34\u001b[0m \u001b[0mr_l\u001b[0m \u001b[0;34m=\u001b[0m \u001b[0mnp\u001b[0m\u001b[0;34m.\u001b[0m\u001b[0mzeros\u001b[0m\u001b[0;34m(\u001b[0m\u001b[0mt\u001b[0m\u001b[0;34m.\u001b[0m\u001b[0mshape\u001b[0m\u001b[0;34m)\u001b[0m\u001b[0;34m\u001b[0m\u001b[0;34m\u001b[0m\u001b[0m\n",
      "\u001b[0;31mAttributeError\u001b[0m: 'list' object has no attribute 'shape'"
     ]
    }
   ],
   "source": [
    "def sum_upper(interest, discount, t, layer):\n",
    "    result = 0.\n",
    "    for i in range(1,int(t)):\n",
    "        result += disc(interest, discount, i) * (layer - i) \n",
    "    return result\n",
    "\n",
    "def sum_lower(interest, discount, t, layer):\n",
    "    result = 0.\n",
    "    for i in range(1,int(t)):\n",
    "        result += disc(interest, discount, i) * (i - layer)\n",
    "    return result\n",
    "\n",
    "def disc(interest, discount, t):\n",
    "    return (discount/1+interest) ** t\n",
    "    \n",
    "def factor(interest, discount, t, layers):   \n",
    "    upper_frac = 1 - interest * sum_upper(interest, discount, t, layers)\n",
    "    lower_frac = 1 + interest * sum_lower(interest, discount, t, layers)\n",
    "    return upper_frac/lower_frac\n",
    "\n",
    "def factor_upper(interest, discount, t, layers):\n",
    "    return factor(interest, discount, 0, layers)\n",
    "\n",
    "    \n",
    "def factor_lower(interest, discount, t, layers):\n",
    "    return factor(interest, discount, 3,layers)\n",
    "\n",
    "interest = 0.05\n",
    "discount = 0.9\n",
    "t = np.linspace(0,3)\n",
    "layers = [3]\n",
    "r = np.zeros(t.shape)\n",
    "r_u = np.zeros(t.shape)\n",
    "r_l = np.zeros(t.shape)\n",
    "\n",
    "for i in range(len(t)):\n",
    "    r[i] = factor(interest,discount,t[i],layers[0])\n",
    "    r_u[i] = factor_upper(interest,discount,t[i],layers[0])\n",
    "    r_l[i] = factor_lower(interest,discount,t[i],layers[0])\n",
    "\n",
    "fig, ax1 = plt.subplots()\n",
    "ax1.plot(t, r, label='Factor f boundary')\n",
    "ax1.plot(t, r_u, label='Lowest bound considering t = 0')\n",
    "ax1.plot(t, r_l, label='Lowest bound consider t → ∞')\n",
    "\n",
    "\n",
    "ax1.set(xlabel='Time steps with t > 0', ylabel='Factor f')\n",
    "\n",
    "ax1.grid()\n",
    "\n",
    "axes = plt.gca()\n",
    "axes.set_xlim([3,100])\n",
    "axes.set_ylim([0.95,1.0])\n",
    "\n",
    "ax1.legend()\n",
    "\n",
    "fig.savefig(\"figures/f.png\", dpi=600)\n",
    "plt.show()"
   ]
  },
  {
   "cell_type": "code",
   "execution_count": null,
   "metadata": {},
   "outputs": [],
   "source": []
  },
  {
   "cell_type": "code",
   "execution_count": null,
   "metadata": {},
   "outputs": [],
   "source": []
  }
 ],
 "metadata": {
  "kernelspec": {
   "display_name": "Python 3",
   "language": "python",
   "name": "python3"
  },
  "language_info": {
   "codemirror_mode": {
    "name": "ipython",
    "version": 3
   },
   "file_extension": ".py",
   "mimetype": "text/x-python",
   "name": "python",
   "nbconvert_exporter": "python",
   "pygments_lexer": "ipython3",
   "version": "3.7.3"
  }
 },
 "nbformat": 4,
 "nbformat_minor": 2
}
